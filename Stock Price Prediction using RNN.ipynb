{
 "cells": [
  {
   "cell_type": "markdown",
   "metadata": {},
   "source": [
    "STOCK PREDICTION USING RNN FOR S&P500"
   ]
  },
  {
   "cell_type": "code",
   "execution_count": 1,
   "metadata": {},
   "outputs": [],
   "source": [
    "import pandas_datareader as webreader \n",
    "import numpy as np \n",
    "import pandas as pd \n",
    "import matplotlib.pyplot as plt \n",
    "import matplotlib.dates as mdates \n",
    "from datetime import date, timedelta"
   ]
  },
  {
   "cell_type": "markdown",
   "metadata": {},
   "source": [
    "Setting the timeframe for data extraction"
   ]
  },
  {
   "cell_type": "code",
   "execution_count": 2,
   "metadata": {},
   "outputs": [],
   "source": [
    "today=date.today()\n",
    "date_today=today.strftime(\"%Y-%m-%d\") \n",
    "date_start='2015-01-01'"
   ]
  },
  {
   "cell_type": "code",
   "execution_count": 5,
   "metadata": {},
   "outputs": [
    {
     "name": "stdout",
     "output_type": "stream",
     "text": [
      "(1441, 6)\n",
      "                   High          Low         Open        Close      Volume  \\\n",
      "Date                                                                         \n",
      "2014-12-31  2085.580078  2057.939941  2082.110107  2058.899902  2606070000   \n",
      "2015-01-02  2072.360107  2046.040039  2058.899902  2058.199951  2708700000   \n",
      "2015-01-05  2054.439941  2017.339966  2054.439941  2020.579956  3799120000   \n",
      "2015-01-06  2030.250000  1992.439941  2022.150024  2002.609985  4460110000   \n",
      "2015-01-07  2029.609985  2005.550049  2005.550049  2025.900024  3805480000   \n",
      "...                 ...          ...          ...          ...         ...   \n",
      "2020-09-15  3419.479980  3389.250000  3407.729980  3401.199951  4051460000   \n",
      "2020-09-16  3428.919922  3384.449951  3411.229980  3385.489990  4710030000   \n",
      "2020-09-17  3375.169922  3328.820068  3346.860107  3357.010010  4371940000   \n",
      "2020-09-18  3362.270020  3292.399902  3357.379883  3319.469971  7068700000   \n",
      "2020-09-21  3285.570068  3229.100098  3285.570068  3241.139893  1798767174   \n",
      "\n",
      "              Adj Close  \n",
      "Date                     \n",
      "2014-12-31  2058.899902  \n",
      "2015-01-02  2058.199951  \n",
      "2015-01-05  2020.579956  \n",
      "2015-01-06  2002.609985  \n",
      "2015-01-07  2025.900024  \n",
      "...                 ...  \n",
      "2020-09-15  3401.199951  \n",
      "2020-09-16  3385.489990  \n",
      "2020-09-17  3357.010010  \n",
      "2020-09-18  3319.469971  \n",
      "2020-09-21  3241.139893  \n",
      "\n",
      "[1441 rows x 6 columns]\n"
     ]
    }
   ],
   "source": [
    "stockname='S&P500'\n",
    "symbol='^GSPC'\n",
    "df = webreader.DataReader(\n",
    "    symbol, start=date_start, end=date_today, data_source=\"yahoo\")\n",
    "\n",
    "print(df.shape)\n",
    "print(df)"
   ]
  },
  {
   "cell_type": "markdown",
   "metadata": {},
   "source": [
    "Plotting the chart \n"
   ]
  },
  {
   "cell_type": "code",
   "execution_count": 10,
   "metadata": {
    "scrolled": true
   },
   "outputs": [
    {
     "data": {
      "image/png": "[encoded data removed]",
      "text/plain": [
       "<Figure size 1152x432 with 1 Axes>"
      ]
     },
     "metadata": {
      "needs_background": "light"
     },
     "output_type": "display_data"
    }
   ],
   "source": [
    "\n",
    "year=mdates.YearLocator()\n",
    "figure, axis1=plt.subplots(figsize=(16,6))\n",
    "axis1.xaxis.set_major_locator(year)\n",
    "x=df.index\n",
    "y=df['Close']\n",
    "axis1.fill_between(x,0,y)\n",
    "axis1.legend([stockname])\n",
    "plt.title(date_start + \" to \" + date_today + \": \" + stockname)\n",
    "plt.ylabel('S&P500 points') \n",
    "plt.xlabel('Years') \n",
    "plt.show()"
   ]
  },
  {
   "cell_type": "code",
   "execution_count": 13,
   "metadata": {},
   "outputs": [],
   "source": [
    "from sklearn.preprocessing import MinMaxScaler\n",
    "from tensorflow.keras.models import Sequential \n",
    "from tensorflow.keras.layers import Dense, LSTM"
   ]
  },
  {
   "cell_type": "code",
   "execution_count": 21,
   "metadata": {},
   "outputs": [],
   "source": [
    "data=df.filter(['Close']) \n",
    "np_array_data=data.values\n"
   ]
  },
  {
   "cell_type": "markdown",
   "metadata": {},
   "source": [
    "Splitting the dataset into training dataset and testing dataset. 80% Training, 20% Testing"
   ]
  },
  {
   "cell_type": "code",
   "execution_count": 22,
   "metadata": {
    "scrolled": true
   },
   "outputs": [
    {
     "name": "stdout",
     "output_type": "stream",
     "text": [
      "1153\n"
     ]
    }
   ],
   "source": [
    "import math\n",
    "training_dataset_length=math.ceil(len(np_array_data)*0.8)\n",
    "print(training_dataset_length)"
   ]
  },
  {
   "cell_type": "markdown",
   "metadata": {},
   "source": [
    "Feature scaling to a range between 0 and 1"
   ]
  },
  {
   "cell_type": "code",
   "execution_count": 23,
   "metadata": {},
   "outputs": [
    {
     "data": {
      "text/plain": [
       "array([[0.13119373],\n",
       "       [0.13079416],\n",
       "       [0.10931862],\n",
       "       ...,\n",
       "       [0.87222561],\n",
       "       [0.85079572],\n",
       "       [0.80608064]])"
      ]
     },
     "execution_count": 23,
     "metadata": {},
     "output_type": "execute_result"
    }
   ],
   "source": [
    "data_scalar=MinMaxScaler(feature_range=(0,1))\n",
    "scaled_data=data_scalar.fit_transform(np_array_data)\n",
    "scaled_data"
   ]
  },
  {
   "cell_type": "markdown",
   "metadata": {},
   "source": [
    "Creating a scaled training dataset"
   ]
  },
  {
   "cell_type": "code",
   "execution_count": 27,
   "metadata": {},
   "outputs": [],
   "source": [
    "train_data=scaled_data[0:training_dataset_length, :]\n",
    "\n",
    "#split the data into x_train and y_train\n",
    "x_train=[]\n",
    "y_train=[]\n",
    "trainingdatasize=len(train_data)\n",
    "for i in range(100, trainingdatasize):\n",
    "    x_train.append(train_data[i-100 : i,0])\n",
    "    y_train.append(train_data[i, 0])\n",
    "    \n",
    "x_train=np.array(x_train)\n",
    "y_train=np.array(y_train)"
   ]
  },
  {
   "cell_type": "code",
   "execution_count": 28,
   "metadata": {},
   "outputs": [
    {
     "name": "stdout",
     "output_type": "stream",
     "text": [
      "[[[0.13119373]\n",
      "  [0.13079416]\n",
      "  [0.10931862]\n",
      "  ...\n",
      "  [0.17224967]\n",
      "  [0.1695324 ]\n",
      "  [0.15705346]]\n",
      "\n",
      " [[0.13079416]\n",
      "  [0.10931862]\n",
      "  [0.09906038]\n",
      "  ...\n",
      "  [0.1695324 ]\n",
      "  [0.15705346]\n",
      "  [0.16805955]]\n",
      "\n",
      " [[0.10931862]\n",
      "  [0.09906038]\n",
      "  [0.1123556 ]\n",
      "  ...\n",
      "  [0.15705346]\n",
      "  [0.16805955]\n",
      "  [0.16652399]]\n",
      "\n",
      " ...\n",
      "\n",
      " [[0.53795607]\n",
      "  [0.52510042]\n",
      "  [0.52175529]\n",
      "  ...\n",
      "  [0.67959082]\n",
      "  [0.67051986]\n",
      "  [0.68318723]]\n",
      "\n",
      " [[0.52510042]\n",
      "  [0.52175529]\n",
      "  [0.54472075]\n",
      "  ...\n",
      "  [0.67051986]\n",
      "  [0.68318723]\n",
      "  [0.68039567]]\n",
      "\n",
      " [[0.52175529]\n",
      "  [0.54472075]\n",
      "  [0.54941316]\n",
      "  ...\n",
      "  [0.68318723]\n",
      "  [0.68039567]\n",
      "  [0.6759487 ]]]\n",
      "[0.16805955 0.16652399 0.15887446 ... 0.68039567 0.6759487  0.65722464]\n",
      "(1053, 100, 1)\n",
      "(1053,)\n"
     ]
    }
   ],
   "source": [
    "#Reshaping the data\n",
    "x_train=np.reshape(x_train, (x_train.shape[0], x_train.shape[1], 1))\n",
    "print(x_train)\n",
    "print(y_train)\n",
    "print(x_train.shape)\n",
    "print(y_train.shape)"
   ]
  },
  {
   "cell_type": "markdown",
   "metadata": {},
   "source": [
    "Building the RNN Model"
   ]
  },
  {
   "cell_type": "code",
   "execution_count": 29,
   "metadata": {},
   "outputs": [],
   "source": [
    "model=Sequential()\n",
    "\n",
    "#Model has 100 neurons, inputshape= 100 timestamps\n",
    "model.add(LSTM(100,return_sequences=True, input_shape=(x_train.shape[1],1)))\n",
    "model.add(LSTM(100, return_sequences=False))\n",
    "model.add(Dense(25, activation='relu'))\n",
    "model.add(Dense(1))"
   ]
  },
  {
   "cell_type": "code",
   "execution_count": 32,
   "metadata": {},
   "outputs": [],
   "source": [
    "#compiling the model\n",
    "from sklearn.metrics import mean_absolute_error, mean_squared_error\n",
    "model.compile(optimizer='adam', loss='mean_squared_error')"
   ]
  },
  {
   "cell_type": "code",
   "execution_count": 33,
   "metadata": {},
   "outputs": [
    {
     "name": "stdout",
     "output_type": "stream",
     "text": [
      "Train on 1053 samples\n",
      "Epoch 1/25\n",
      "1053/1053 [==============================] - 32s 31ms/sample - loss: 0.0148\n",
      "Epoch 2/25\n",
      "1053/1053 [==============================] - 15s 15ms/sample - loss: 7.8249e-04\n",
      "Epoch 3/25\n",
      "1053/1053 [==============================] - 15s 15ms/sample - loss: 7.2844e-04\n",
      "Epoch 4/25\n",
      "1053/1053 [==============================] - 15s 14ms/sample - loss: 8.3007e-04\n",
      "Epoch 5/25\n",
      "1053/1053 [==============================] - 15s 15ms/sample - loss: 7.8748e-04\n",
      "Epoch 6/25\n",
      "1053/1053 [==============================] - 15s 14ms/sample - loss: 6.6476e-04\n",
      "Epoch 7/25\n",
      "1053/1053 [==============================] - 15s 14ms/sample - loss: 6.7679e-04\n",
      "Epoch 8/25\n",
      "1053/1053 [==============================] - 15s 14ms/sample - loss: 6.0070e-04\n",
      "Epoch 9/25\n",
      "1053/1053 [==============================] - 15s 14ms/sample - loss: 6.1099e-04\n",
      "Epoch 10/25\n",
      "1053/1053 [==============================] - 15s 14ms/sample - loss: 6.0784e-04\n",
      "Epoch 11/25\n",
      "1053/1053 [==============================] - 15s 14ms/sample - loss: 5.3076e-04\n",
      "Epoch 12/25\n",
      "1053/1053 [==============================] - 15s 14ms/sample - loss: 4.7035e-04\n",
      "Epoch 13/25\n",
      "1053/1053 [==============================] - 15s 14ms/sample - loss: 4.7782e-04\n",
      "Epoch 14/25\n",
      "1053/1053 [==============================] - 15s 15ms/sample - loss: 5.2196e-04\n",
      "Epoch 15/25\n",
      "1053/1053 [==============================] - 15s 14ms/sample - loss: 4.2381e-04\n",
      "Epoch 16/25\n",
      "1053/1053 [==============================] - 15s 14ms/sample - loss: 4.2617e-04\n",
      "Epoch 17/25\n",
      "1053/1053 [==============================] - 15s 14ms/sample - loss: 5.5097e-04\n",
      "Epoch 18/25\n",
      "1053/1053 [==============================] - 15s 14ms/sample - loss: 4.1424e-04\n",
      "Epoch 19/25\n",
      "1053/1053 [==============================] - 16s 15ms/sample - loss: 4.0830e-04\n",
      "Epoch 20/25\n",
      "1053/1053 [==============================] - 16s 15ms/sample - loss: 4.1461e-04\n",
      "Epoch 21/25\n",
      "1053/1053 [==============================] - 16s 15ms/sample - loss: 4.0947e-04\n",
      "Epoch 22/25\n",
      "1053/1053 [==============================] - 16s 15ms/sample - loss: 3.9497e-04\n",
      "Epoch 23/25\n",
      "1053/1053 [==============================] - 16s 15ms/sample - loss: 3.2180e-04\n",
      "Epoch 24/25\n",
      "1053/1053 [==============================] - 16s 15ms/sample - loss: 3.3414e-04\n",
      "Epoch 25/25\n",
      "1053/1053 [==============================] - 17s 16ms/sample - loss: 3.0709e-04\n"
     ]
    },
    {
     "data": {
      "text/plain": [
       "<tensorflow.python.keras.callbacks.History at 0x187c772e648>"
      ]
     },
     "execution_count": 33,
     "metadata": {},
     "output_type": "execute_result"
    }
   ],
   "source": [
    "#Training the model\n",
    "model.fit(x_train, y_train, batch_size=16, epochs=25)"
   ]
  },
  {
   "cell_type": "code",
   "execution_count": 34,
   "metadata": {},
   "outputs": [],
   "source": [
    "#Evaluating the model \n",
    "test_data=scaled_data[training_dataset_length-100: , :]\n",
    "x_test=[]\n",
    "y_test=np_array_data[training_dataset_length:,:]\n",
    "for i in range(100, len(test_data)):\n",
    "    x_test.append(test_data[i-100:i,0])\n",
    "    \n",
    "x_test=np.array(x_test)\n",
    "\n",
    "x_test=np.reshape(x_test, (x_test.shape[0], x_test.shape[1],1))\n",
    "    "
   ]
  },
  {
   "cell_type": "code",
   "execution_count": 36,
   "metadata": {},
   "outputs": [],
   "source": [
    "#Make predictions\n",
    "predictions=model.predict(x_test)\n",
    "predictions=data_scalar.inverse_transform(predictions)"
   ]
  },
  {
   "cell_type": "markdown",
   "metadata": {},
   "source": [
    "Plotting Test Predictions"
   ]
  },
  {
   "cell_type": "code",
   "execution_count": 37,
   "metadata": {},
   "outputs": [
    {
     "data": {
      "image/png": "[encoded data removed]",
      "text/plain": [
       "<Figure size 1584x576 with 1 Axes>"
      ]
     },
     "metadata": {
      "needs_background": "light"
     },
     "output_type": "display_data"
    }
   ],
   "source": [
    "# The date from which on the date is displayed\n",
    "display_start_date = \"2018-01-01\" \n",
    "\n",
    "# Add the difference between the valid and predicted prices\n",
    "train = data[:training_dataset_length + 1]\n",
    "valid = data[training_dataset_length:]\n",
    "valid.insert(1, \"Predictions\", predictions, True)\n",
    "valid.insert(1, \"Difference\", valid[\"Predictions\"] - valid[\"Close\"], True)\n",
    "\n",
    "# Zoom in to a closer timeframe\n",
    "valid = valid[valid.index > display_start_date]\n",
    "train = train[train.index > display_start_date]\n",
    "\n",
    "# Visualize the data\n",
    "fig, ax1 = plt.subplots(figsize=(22, 8), sharex=True)\n",
    "xt = train.index; yt = train[[\"Close\"]]\n",
    "xv = valid.index; yv = valid[[\"Close\", \"Predictions\"]]\n",
    "plt.title(\"Predictions vs Ground Truth\", fontsize=20)\n",
    "plt.ylabel(stockname, fontsize=18)\n",
    "plt.plot(yt, color=\"#039dfc\", linewidth=2.0)\n",
    "plt.plot(yv[\"Predictions\"], color=\"#E91D9E\", linewidth=2.0)\n",
    "plt.plot(yv[\"Close\"], color=\"black\", linewidth=2.0)\n",
    "plt.legend([\"Train\", \"Train Predictions\", \"Ground Truth\"], loc=\"upper left\")\n",
    "\n",
    "# Fill between plotlines\n",
    "ax1.fill_between(xt, 0, yt[\"Close\"], color=\"#b9e1fa\")\n",
    "ax1.fill_between(xv, 0, yv[\"Predictions\"], color=\"#F0845C\")\n",
    "ax1.fill_between(xv, yv[\"Close\"], yv[\"Predictions\"], color=\"grey\") \n",
    "\n",
    "# Create the bar plot with the differences\n",
    "x = valid.index\n",
    "y = valid[\"Difference\"]\n",
    "plt.bar(x, y, width=5, color=\"black\")\n",
    "plt.grid()\n",
    "plt.show()"
   ]
  },
  {
   "cell_type": "markdown",
   "metadata": {},
   "source": [
    "Making predictions for the day ahead"
   ]
  },
  {
   "cell_type": "code",
   "execution_count": 39,
   "metadata": {},
   "outputs": [
    {
     "name": "stdout",
     "output_type": "stream",
     "text": [
      "The price for S&P500 at 2020-09-21 was: 3241.0\n",
      "The predicted S&P500 price at date 2020-09-23 is: 3322.0\n"
     ]
    }
   ],
   "source": [
    "# Get fresh data until today and create a new dataframe with only the price data\n",
    "price_quote = webreader.DataReader(symbol, data_source='yahoo', start=date_start, end=date_today)\n",
    "new_df = price_quote.filter(['Close'])\n",
    "\n",
    "# Get the last 100 day closing price values and scale the data to be values between 0 and 1\n",
    "last_100_days = new_df[-100:].values\n",
    "last_100_days_scaled = data_scalar.transform(new_df[-100:].values)\n",
    "\n",
    "# Create an empty list and Append past 100 days\n",
    "X_test = []\n",
    "X_test.append(last_100_days_scaled)\n",
    "\n",
    "# Convert the X_test data set to a numpy array and reshape the data\n",
    "X_test = np.array(X_test)\n",
    "X_test = np.reshape(X_test, (X_test.shape[0], X_test.shape[1], 1))\n",
    "\n",
    "# Get the predicted scaled price, undo the scaling and output the predictions\n",
    "pred_price = model.predict(X_test)\n",
    "pred_price = data_scalar.inverse_transform(pred_price)\n",
    "date_tomorrow = date.today() + timedelta(days=1)\n",
    "print('The price for ' + stockname + ' at ' + date_today + ' was: ' + str(round(df.at[df.index.max(), 'Close'])))\n",
    "print('The predicted ' + stockname + ' price at date ' + str(date_tomorrow) + ' is: ' + str(round(pred_price[0, 0], 0)))"
   ]
  },
  {
   "cell_type": "code",
   "execution_count": null,
   "metadata": {},
   "outputs": [],
   "source": []
  }
 ],
 "metadata": {
  "kernelspec": {
   "display_name": "Python [conda env:py3TF2.0]",
   "language": "python",
   "name": "conda-env-py3TF2.0-py"
  },
  "language_info": {
   "codemirror_mode": {
    "name": "ipython",
    "version": 3
   },
   "file_extension": ".py",
   "mimetype": "text/x-python",
   "name": "python",
   "nbconvert_exporter": "python",
   "pygments_lexer": "ipython3",
   "version": "3.7.7"
  }
 },
 "nbformat": 4,
 "nbformat_minor": 2
}
